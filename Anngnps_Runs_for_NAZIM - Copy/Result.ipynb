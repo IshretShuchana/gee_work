{
 "cells": [
  {
   "cell_type": "code",
   "execution_count": null,
   "id": "8bf866b5",
   "metadata": {},
   "outputs": [],
   "source": []
  },
  {
   "cell_type": "code",
   "execution_count": 1,
   "id": "460363a7",
   "metadata": {},
   "outputs": [
    {
     "name": "stdout",
     "output_type": "stream",
     "text": [
      "                                   Compared_Variable  R_squared      NNSE  \\\n",
      "0    thuc_test_goodwin_nhdplus_Total Streamflow [Mg]   0.630306  0.489765   \n",
      "1  thuc_test_goodwin_nhdplus__Sediment: All: Tota...   0.664715  0.385993   \n",
      "2      thuc_test_goodwin_topagnps_Direct Runoff [Mg]   0.859631  0.516347   \n",
      "3  thuc_test_goodwin_topagnps_Sediment: All: Tota...   0.828030  0.386098   \n",
      "\n",
      "        NSE  \n",
      "0 -0.041796  \n",
      "1 -0.590724  \n",
      "2  0.063316  \n",
      "3 -0.590019  \n"
     ]
    }
   ],
   "source": [
    "import pandas as pd\n",
    "import numpy as np\n",
    "from scipy.stats import pearsonr\n",
    "\n",
    "def compute_metrics(observed, simulated):\n",
    "    \"\"\"Calculate R² NSE and NNSE, ignoring NaNs and zeros.\"\"\"\n",
    "    mask = ~np.isnan(observed) & ~np.isnan(simulated) & (observed != 0) & (simulated != 0)\n",
    "    O = observed[mask]\n",
    "    S = simulated[mask]\n",
    "\n",
    "    if len(O) < 2:\n",
    "        return np.nan, np.nan \n",
    "\n",
    "    # R²\n",
    "    r, _ = pearsonr(O, S)\n",
    "    r_squared = r ** 2\n",
    "\n",
    "    # NSE\n",
    "    numerator = np.sum((O - S) ** 2)\n",
    "    denominator = np.sum((O - np.mean(O)) ** 2)\n",
    "    nse = 1 - numerator / denominator if denominator != 0 else np.nan\n",
    "\n",
    "    # NNSE = 1 / (2 - NSE)\n",
    "    nnse = 1 / (2 - nse) if not np.isnan(nse) and (2 - nse) != 0 else np.nan\n",
    "\n",
    "    return r_squared, nse, nnse\n",
    "\n",
    "\n",
    "\n",
    "# ============================\n",
    "# Load your dataframe\n",
    "# ============================\n",
    "df=pd.read_csv(r\"C:\\Users\\ishret\\Desktop\\Anngnps_Runs\\monthly_averages_Ann_run_Runoff.csv\")\n",
    "df['Date'] = pd.to_datetime(df['Date'])\n",
    "\n",
    "reference = 'Observed Total runoff_Mg'\n",
    "other_cols = [col for col in df.columns if col not in ['Date', reference]]\n",
    "valid_cols = [col for col in other_cols if df[col].notna().any()]\n",
    "\n",
    "results = []\n",
    "for col in valid_cols:\n",
    "    r2, nse, nnse = compute_metrics(df[reference].values, df[col].values)\n",
    "    results.append({'Compared_Variable': col, 'R_squared': r2, 'NNSE': nnse, 'NSE': nse})\n",
    "\n",
    "\n",
    "# Show results as a DataFrame\n",
    "results_df = pd.DataFrame(results)\n",
    "print(results_df)\n"
   ]
  },
  {
   "cell_type": "code",
   "execution_count": 2,
   "id": "9534743e",
   "metadata": {},
   "outputs": [],
   "source": [
    "results_df.to_csv(r\"C:\\Users\\ishret\\Desktop\\Anngnps_Runs\\monthly_averages_Ann_run_Runoff_metrics_for_Runoff.csv\", index=False)"
   ]
  },
  {
   "cell_type": "code",
   "execution_count": 3,
   "id": "5271f3e2",
   "metadata": {},
   "outputs": [
    {
     "name": "stdout",
     "output_type": "stream",
     "text": [
      "                                   Compared_Variable  R_squared      NNSE  \\\n",
      "0    thuc_test_goodwin_nhdplus_Total Streamflow [Mg]   0.557159  0.000092   \n",
      "1  thuc_test_goodwin_nhdplus__Sediment: All: Tota...   0.629940  0.500215   \n",
      "2      thuc_test_goodwin_topagnps_Direct Runoff [Mg]   0.796097  0.000077   \n",
      "3  thuc_test_goodwin_topagnps_Sediment: All: Tota...   0.820317  0.555477   \n",
      "\n",
      "            NSE  \n",
      "0 -10848.987716  \n",
      "1      0.000860  \n",
      "2 -12909.046770  \n",
      "3      0.199746  \n"
     ]
    }
   ],
   "source": [
    "import pandas as pd\n",
    "import numpy as np\n",
    "from scipy.stats import pearsonr\n",
    "\n",
    "def compute_metrics(observed, simulated):\n",
    "    \"\"\"Calculate R² NSE and NNSE, ignoring NaNs and zeros.\"\"\"\n",
    "    mask = ~np.isnan(observed) & ~np.isnan(simulated) & (observed != 0) & (simulated != 0)\n",
    "    O = observed[mask]\n",
    "    S = simulated[mask]\n",
    "\n",
    "    if len(O) < 2:\n",
    "        return np.nan, np.nan \n",
    "\n",
    "    # R²\n",
    "    r, _ = pearsonr(O, S)\n",
    "    r_squared = r ** 2\n",
    "\n",
    "    # NSE\n",
    "    numerator = np.sum((O - S) ** 2)\n",
    "    denominator = np.sum((O - np.mean(O)) ** 2)\n",
    "    nse = 1 - numerator / denominator if denominator != 0 else np.nan\n",
    "\n",
    "    # NNSE = 1 / (2 - NSE)\n",
    "    nnse = 1 / (2 - nse) if not np.isnan(nse) and (2 - nse) != 0 else np.nan\n",
    "\n",
    "    return r_squared, nse, nnse\n",
    "\n",
    "\n",
    "\n",
    "# ============================\n",
    "# Load your dataframe\n",
    "# ============================\n",
    "df=pd.read_csv(r\"C:\\Users\\ishret\\Desktop\\Anngnps_Runs\\monthly_averages_Ann_run_sediment.csv\")\n",
    "df['Date'] = pd.to_datetime(df['Date'])\n",
    "\n",
    "reference = 'Observed Total sediment load_Mg'\n",
    "other_cols = [col for col in df.columns if col not in ['Date', reference]]\n",
    "valid_cols = [col for col in other_cols if df[col].notna().any()]\n",
    "\n",
    "results = []\n",
    "for col in valid_cols:\n",
    "    r2, nse, nnse = compute_metrics(df[reference].values, df[col].values)\n",
    "    results.append({'Compared_Variable': col, 'R_squared': r2, 'NNSE': nnse, 'NSE': nse})\n",
    "\n",
    "\n",
    "# Show results as a DataFrame\n",
    "results_df = pd.DataFrame(results)\n",
    "print(results_df)\n"
   ]
  },
  {
   "cell_type": "code",
   "execution_count": 4,
   "id": "6ece51a8",
   "metadata": {},
   "outputs": [],
   "source": [
    "results_df.to_csv(r\"C:\\Users\\ishret\\Desktop\\Anngnps_Runs\\monthly_averages_Ann_run_sediment_metrics_for_Sediment.csv\", index=False)  "
   ]
  }
 ],
 "metadata": {
  "kernelspec": {
   "display_name": "mynewenv",
   "language": "python",
   "name": "python3"
  },
  "language_info": {
   "codemirror_mode": {
    "name": "ipython",
    "version": 3
   },
   "file_extension": ".py",
   "mimetype": "text/x-python",
   "name": "python",
   "nbconvert_exporter": "python",
   "pygments_lexer": "ipython3",
   "version": "3.11.11"
  }
 },
 "nbformat": 4,
 "nbformat_minor": 5
}
